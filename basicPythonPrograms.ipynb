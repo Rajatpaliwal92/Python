{
 "cells": [
  {
   "cell_type": "code",
   "execution_count": 7,
   "metadata": {},
   "outputs": [
    {
     "name": "stdout",
     "output_type": "stream",
     "text": [
      "Addition of given numbers is : 50\n"
     ]
    }
   ],
   "source": [
    "# Basic python program to add two numbers\n",
    "A = 20\n",
    "B = 30\n",
    "print (\"Addition of given numbers is :\", A+B)"
   ]
  },
  {
   "cell_type": "code",
   "execution_count": null,
   "metadata": {},
   "outputs": [],
   "source": []
  },
  {
   "cell_type": "code",
   "execution_count": 28,
   "metadata": {},
   "outputs": [
    {
     "name": "stdout",
     "output_type": "stream",
     "text": [
      "30\n"
     ]
    }
   ],
   "source": [
    "#Maximum of two numbers in Python\n",
    "A = 20\n",
    "B = 30\n",
    "\n",
    "if A<B :\n",
    "    print(B)\n",
    "elif A>B:\n",
    "    print(A)\n",
    "else:\n",
    "    print (\"Both are equal\")"
   ]
  },
  {
   "cell_type": "code",
   "execution_count": 29,
   "metadata": {},
   "outputs": [
    {
     "name": "stdout",
     "output_type": "stream",
     "text": [
      "30\n"
     ]
    }
   ],
   "source": [
    "#Maximum of two numbers in Python\n",
    "A = 20\n",
    "B = 30\n",
    "\n",
    "while (A>B) :\n",
    "    print(A)\n",
    "else:\n",
    "    print(B)"
   ]
  },
  {
   "cell_type": "code",
   "execution_count": 49,
   "metadata": {},
   "outputs": [
    {
     "name": "stdout",
     "output_type": "stream",
     "text": [
      "Enter a positive number: 5\n",
      "Type of number is <class 'int'>\n",
      "Factoria is : 120\n"
     ]
    }
   ],
   "source": [
    "#Python Program for factorial of a number\n",
    "number = int(input('Enter a positive number: '))\n",
    "print (\"Type of number is\",type(number))\n",
    "#num =float(number)\n",
    "fact=1\n",
    "while number > 1 :\n",
    "    fact = fact *number\n",
    "    number -= 1\n",
    "print (\"Factorial is :\", fact)"
   ]
  },
  {
   "cell_type": "code",
   "execution_count": 51,
   "metadata": {},
   "outputs": [
    {
     "name": "stdout",
     "output_type": "stream",
     "text": [
      "Enter a Principal amount: 400\n",
      "Enter the anual rate of intrest in % terms: 20\n",
      "Enter the tenure in years: 5\n",
      "Intrest would be :  400.0\n",
      "\n",
      "Overall amount to be re-paid :  800.0\n"
     ]
    }
   ],
   "source": [
    "#Python Program for simple interest\n",
    "principle =int(input('Enter a Principal amount: '))\n",
    "rate = int(input(\"Enter the anual rate of intrest in % terms: \"))\n",
    "tenure = int(input(\"Enter the tenure in years: \"))\n",
    "intrest = principle*rate*tenure/100\n",
    "print (\"Intrest would be : \", intrest)\n",
    "print (\"\\nOverall amount to be re-paid : \",principle+intrest)"
   ]
  },
  {
   "cell_type": "code",
   "execution_count": 66,
   "metadata": {},
   "outputs": [
    {
     "name": "stdout",
     "output_type": "stream",
     "text": [
      "Enter a Principal amount: 5000\n",
      "Enter the anual rate of intrest in % terms: 10\n",
      "Enter the tenure in years: 2\n",
      "Enter the frequency i.e. how many times intrest should be compounded in a year 2\n",
      "\n",
      "Overall amount to be re-paid :  6077.531250000001\n"
     ]
    }
   ],
   "source": [
    "#Python Program for compound interest\n",
    "principle =int(input('Enter a Principal amount: '))\n",
    "rate = int(input(\"Enter the anual rate of intrest in % terms: \"))\n",
    "tenure = int(input(\"Enter the tenure in years: \"))\n",
    "frequency = int(input(\"Enter the frequency i.e. how many times intrest should be compounded in a year \"))\n",
    "timeframe = frequency*tenure\n",
    "P= principle * (1+(rate/(100*frequency))) ** timeframe\n",
    "print (\"\\nOverall amount to be re-paid : \",P)"
   ]
  },
  {
   "cell_type": "code",
   "execution_count": 131,
   "metadata": {},
   "outputs": [
    {
     "name": "stdout",
     "output_type": "stream",
     "text": [
      "Enter number to be checked for Armstrong validations 1634\n",
      "Armstrong Number validation got new number to be:  1634\n",
      "This is Armstrong number\n"
     ]
    }
   ],
   "source": [
    "#Python Program to check Armstrong Number\n",
    "number = input(\"Enter number to be checked for Armstrong validations \")\n",
    "origional_number = int(number)\n",
    "exponent = len(number)\n",
    "iterations = exponent\n",
    "Armstrong_num = 0\n",
    "while iterations > 0 :\n",
    "    divisor = int(number)//(10**(iterations-1))\n",
    "    reminder = int(number) % (10**(iterations-1))\n",
    "    #print (\"Divisor is \",divisor)\n",
    "    number = reminder\n",
    "    #print(\"New number is \",number)\n",
    "    Armstrong_num = Armstrong_num + (divisor ** exponent)\n",
    "    #print (\"Stepwise armstrong number is\",Armstrong_num)\n",
    "    iterations = iterations - 1   \n",
    "print ('Armstrong Number validation got new number to be: ', Armstrong_num)\n",
    "\n",
    "if (origional_number == Armstrong_num):\n",
    "    print (\"This is Armstrong number\")\n",
    "else :\n",
    "    print (\"NOT AN Armstrong number\")\n",
    "    "
   ]
  },
  {
   "cell_type": "code",
   "execution_count": 227,
   "metadata": {},
   "outputs": [],
   "source": [
    "#Prime Numbers\n",
    "def prime_check(number):\n",
    "    #number = int(input(\"Enter number to be checked for Prime validations \"))\n",
    "    #up = int(number/2)\n",
    "    count = 0\n",
    "    for i in range (2,number):\n",
    "        div = number%i\n",
    "        if (div == 0):\n",
    "            #print(\"NOT A PRIME number\")\n",
    "            count = count+1\n",
    "    if (count == 0 )       :\n",
    "        print(number)"
   ]
  },
  {
   "cell_type": "code",
   "execution_count": 226,
   "metadata": {},
   "outputs": [
    {
     "name": "stdout",
     "output_type": "stream",
     "text": [
      "2\n"
     ]
    }
   ],
   "source": [
    "for i in range (2,3):\n",
    "    print(i)"
   ]
  },
  {
   "cell_type": "code",
   "execution_count": 230,
   "metadata": {},
   "outputs": [
    {
     "name": "stdout",
     "output_type": "stream",
     "text": [
      "Enter number to be checked for Prime validations 19\n",
      "2\n",
      "3\n",
      "5\n",
      "7\n",
      "11\n",
      "13\n",
      "17\n",
      "19\n"
     ]
    }
   ],
   "source": [
    "# Python program to print all Prime numbers in an Interval\n",
    "\n",
    "number = int(input(\"Enter number to be checked for Prime validations \"))\n",
    "for i in range(2,number+1):\n",
    "    prime_check(i)\n",
    "\n"
   ]
  },
  {
   "cell_type": "code",
   "execution_count": 149,
   "metadata": {},
   "outputs": [
    {
     "name": "stdout",
     "output_type": "stream",
     "text": [
      "Enter numbers seprated by 1\n",
      "['1']\n",
      "Smallest Number is  1\n",
      "Largest Number is  1\n"
     ]
    }
   ],
   "source": [
    "# comparision\n",
    "\n",
    "MyList =list(input(\"Enter numbers seprated by \"))\n",
    "print (MyList)\n",
    "large = small = MyList[0]\n",
    "for i in range(1, len(MyList)-1):\n",
    "    if (large < MyList[i]):\n",
    "        large = MyList[i]\n",
    "\n",
    "for i in range(1, len(MyList)-1):\n",
    "    if (small > MyList[i]):\n",
    "        small = MyList[i]\n",
    "        \n",
    "print (\"Smallest Number is \", small)\n",
    "\n",
    "print (\"Largest Number is \", large)\n"
   ]
  },
  {
   "cell_type": "code",
   "execution_count": 201,
   "metadata": {},
   "outputs": [
    {
     "name": "stdout",
     "output_type": "stream",
     "text": [
      "Enter Any Name : Kanchan Dinesh Paliwal\n",
      "Kanchan Dinesh Paliwal\n",
      "K  :  1\n",
      "a  :  4\n",
      "n  :  3\n",
      "c  :  1\n",
      "h  :  2\n",
      "   :  2\n",
      "D  :  1\n",
      "i  :  2\n",
      "e  :  1\n",
      "s  :  1\n",
      "P  :  1\n",
      "l  :  2\n",
      "w  :  1\n"
     ]
    }
   ],
   "source": [
    "#count each character in given string\n",
    "\n",
    "MyList =input(\"Enter Any Name : \")\n",
    "length = len(MyList)\n",
    "print (MyList)\n",
    "mydict=dict()\n",
    "#print (len(MyList))\n",
    "\n",
    "for i in range(0,len(MyList)):\n",
    "    count= 0\n",
    "    for j in range(0,len(MyList)) :\n",
    "        character = MyList[i]\n",
    "        if (character == MyList[j]):\n",
    "            count = count+1\n",
    "    mydict[character]= count\n",
    "#print(mydict)\n",
    "for key, value in mydict.items():\n",
    "    print(key, ' : ', value)\n"
   ]
  },
  {
   "cell_type": "code",
   "execution_count": 6,
   "metadata": {},
   "outputs": [
    {
     "name": "stdout",
     "output_type": "stream",
     "text": [
      "How many values you want to enter : 4\n",
      "6\n",
      "8\n",
      "4\n",
      "9\n",
      "Input list is : ['6', '8', '4', '9']\n",
      "Output list is  ['9', '8', '4', '6']\n"
     ]
    }
   ],
   "source": [
    "#Python program to interchange first and last elements in a list\n",
    "\n",
    "lst =[]\n",
    "num = int(input(\"How many values you want to enter : \"))\n",
    "\n",
    "for i in range(0,num):\n",
    "    j=input()\n",
    "    lst.append(j)\n",
    "print (\"Input list is :\",lst)\n",
    "\n",
    "#Replace first & last element from the list\n",
    "first = lst[0]\n",
    "last = lst[-1]\n",
    "\n",
    "lst[0] = last\n",
    "lst[-1]= first\n",
    "\n",
    "print (\"Output list is \", lst)"
   ]
  },
  {
   "cell_type": "code",
   "execution_count": 23,
   "metadata": {},
   "outputs": [
    {
     "name": "stdout",
     "output_type": "stream",
     "text": [
      "Enter a string to be validated for Palindrome : khokho\n",
      "String after reversing would be :  ohkohk\n",
      "**** Sorry. This is not a case for Palindrome\n",
      "First half is   kho\n",
      "Second half is  kho\n",
      "***** Given string :  khokho  is symmetric\n"
     ]
    }
   ],
   "source": [
    "#Python program to check whether the string is Symmetrical or Palindrome\n",
    "A= input(\"Enter a string to be validated for Palindrome : \")\n",
    "B= A[::-1]\n",
    "print (\"String after reversing would be : \", B)\n",
    "\n",
    "if A.lower() == B.lower():\n",
    "    print(\"***** This is Paindrome\")\n",
    "else:\n",
    "    print (\"**** Sorry. This is not a case for Palindrome\")\n",
    "    \n",
    "    \n",
    "#check for symmetricity\n",
    "length = len(A)\n",
    "if (length%2 == 0):\n",
    "    n = int(length/2)\n",
    "    first_half = A[:n]\n",
    "    second_half = A[n:]\n",
    "    print (\"First half is  \", first_half)\n",
    "    print (\"Second half is \", second_half)\n",
    "    if first_half.lower() == second_half :\n",
    "        print(\"***** Given string : \",A,\" is symmetric\")\n",
    "    else:\n",
    "        print (\"***** Not a symmetric string\")\n",
    "else:\n",
    "        print (\"***** Not a symmetric string\")"
   ]
  },
  {
   "cell_type": "code",
   "execution_count": 67,
   "metadata": {},
   "outputs": [
    {
     "name": "stdout",
     "output_type": "stream",
     "text": [
      "Give the string with space as a sepratorKanchan Rajat Paliwal\n",
      "Input list is  ['Kanchan', 'Rajat', 'Paliwal']\n",
      "Reverse list would be:  Paliwal--Rajat--Kanchan\n",
      "Unique string would be:  {'Kanchan', 'Rajat', 'Paliwal'}\n"
     ]
    }
   ],
   "source": [
    "#Reverse words in a given String in Python\n",
    "# Also,Print the uniq ist of strings\n",
    "\n",
    "A=input(\"Give the string with space as a seprator: \")\n",
    "count = A.count(' ')\n",
    "mylist = []\n",
    "#print (mylist)\n",
    "\n",
    "for i in range(0,count) :\n",
    "    #print (\"counter is set to \",count)\n",
    "    num = A.index(' ')\n",
    "    #print (\"Space is found at \", num , \"th location\")\n",
    "    mylist.append(A[:num])\n",
    "    A = A[num+1:]\n",
    "    #print (\"revised string is :\", A)\n",
    "    count -= count\n",
    "    continue\n",
    "mylist.append(A)\n",
    "print (\"Input list is \", mylist)\n",
    "print (\"Reverse list would be: \", '--'.join(mylist[::-1]))\n",
    "\n",
    "print (\"Unique string would be: \",set(mylist))\n"
   ]
  },
  {
   "cell_type": "code",
   "execution_count": 76,
   "metadata": {},
   "outputs": [
    {
     "name": "stdout",
     "output_type": "stream",
     "text": [
      "Enter a string seprated by space. We will print even words from the string: k l oo yy tttt \n",
      "Even words are :  oo yy tttt\n"
     ]
    }
   ],
   "source": [
    "#Python program to print even length words in a string\n",
    "\n",
    "input_string = input(\"Enter a string seprated by space. We will print even words from the string: \")\n",
    "words = input_string.split()\n",
    "even_list =[]\n",
    "empty_list =[]\n",
    "\n",
    "for i in range (0,len(words)):\n",
    "    check_word = words[i]\n",
    "    if len(check_word)%2 == 0 :\n",
    "        #print (check_word)\n",
    "        even_list.append(check_word)\n",
    "#print (even_list)\n",
    "\n",
    "if even_list == empty_list :\n",
    "    print (\"No Even output \")\n",
    "else :\n",
    "    print (\"Even words are : \", ' '.join(even_list)      )  "
   ]
  },
  {
   "cell_type": "code",
   "execution_count": 78,
   "metadata": {},
   "outputs": [
    {
     "data": {
      "text/plain": [
       "4"
      ]
     },
     "execution_count": 78,
     "metadata": {},
     "output_type": "execute_result"
    }
   ],
   "source": [
    "# Python program to Find the size of a Tuple\n",
    "A = (1,2,3,40)\n",
    "type(A)\n",
    "len(A)"
   ]
  },
  {
   "cell_type": "code",
   "execution_count": 94,
   "metadata": {},
   "outputs": [
    {
     "name": "stdout",
     "output_type": "stream",
     "text": [
      "How many total Input Numbers: 4\n",
      "3\n",
      "69\n",
      "5\n",
      "5\n",
      "[3, 69, 5, 5]\n"
     ]
    }
   ],
   "source": [
    "# Python – Maximum and Minimum K elements in Tuple\n",
    "A = int(input(\"How many total Input Numbers: \"))\n",
    "mylist=[]\n",
    "\n",
    "for i in range(0,A):\n",
    "    inp=int(input())\n",
    "    mylist.append(inp)\n",
    "print (mylist)\n",
    "\n",
    "mytuple = tuple(mylist)\n",
    "    "
   ]
  },
  {
   "cell_type": "code",
   "execution_count": null,
   "metadata": {},
   "outputs": [],
   "source": [
    "# Python – Maximum and Minimum K elements in Tuple\n",
    "\n",
    "A = int(input(\"How many total Input Numbers: \"))\n",
    "mylist=[]\n",
    "\n",
    "for i in range(0,A):\n",
    "    inp=int(input())\n",
    "    mylist.append(inp)\n",
    "print (mylist)\n",
    "\n",
    "mytuple = tuple(mylist)\n",
    "\n",
    "print (\"Given Tuple is \", mytuple)\n",
    "max = min = mytuple[0]\n",
    "for i in range (0,len(mytuple)):\n",
    "    if (mytuple[i] > max ):\n",
    "        max = mytuple[i]\n",
    "    elif (mytuple[i] < min ):\n",
    "        min = mytuple[i]\n",
    "\n",
    "print (\"Max is \", max)\n",
    "print (\"Min is \", min)\n",
    "sorted_list = sorted (mylist)\n",
    "empty_list=[]\n",
    "print (\"Sorted list is \", sorted_list)\n",
    "k = int(input(\"Enter the vaue of K you want to see MIN-MAX :\"))\n",
    "\n",
    "if (k > A ):\n",
    "    print (\"Value of K should be less than input's total element\")\n",
    "else:\n",
    "    for i in range (0,k):\n",
    "        empty_list.append(sorted_list[i])\n",
    "    for i in range (A-1 ,k -1):\n",
    "        empty_list.append(sorted_list[i])\n",
    "        \n",
    "print (empty_list)"
   ]
  }
 ],
 "metadata": {
  "kernelspec": {
   "display_name": "Python 3",
   "language": "python",
   "name": "python3"
  },
  "language_info": {
   "codemirror_mode": {
    "name": "ipython",
    "version": 3
   },
   "file_extension": ".py",
   "mimetype": "text/x-python",
   "name": "python",
   "nbconvert_exporter": "python",
   "pygments_lexer": "ipython3",
   "version": "3.7.6"
  }
 },
 "nbformat": 4,
 "nbformat_minor": 4
}
