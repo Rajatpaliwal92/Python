{
 "cells": [
  {
   "cell_type": "code",
   "execution_count": null,
   "metadata": {},
   "outputs": [],
   "source": [
    "# Basic python program to add two numbers\n",
    "A = 20\n",
    "B = 30\n",
    "print (\"Addition of given numbers is :\", A+B)"
   ]
  },
  {
   "cell_type": "code",
   "execution_count": null,
   "metadata": {},
   "outputs": [],
   "source": []
  },
  {
   "cell_type": "code",
   "execution_count": null,
   "metadata": {},
   "outputs": [],
   "source": [
    "#Maximum of two numbers in Python\n",
    "A = 20\n",
    "B = 30\n",
    "\n",
    "if A<B :\n",
    "    print(B)\n",
    "elif A>B:\n",
    "    print(A)\n",
    "else:\n",
    "    print (\"Both are equal\")"
   ]
  },
  {
   "cell_type": "code",
   "execution_count": null,
   "metadata": {},
   "outputs": [],
   "source": [
    "#Maximum of two numbers in Python\n",
    "A = 20\n",
    "B = 30\n",
    "\n",
    "while (A>B) :\n",
    "    print(A)\n",
    "else:\n",
    "    print(B)"
   ]
  },
  {
   "cell_type": "code",
   "execution_count": null,
   "metadata": {},
   "outputs": [],
   "source": [
    "#Python Program for factorial of a number\n",
    "number = int(input('Enter a positive number: '))\n",
    "print (\"Type of number is\",type(number))\n",
    "#num =float(number)\n",
    "fact=1\n",
    "while number > 1 :\n",
    "    fact = fact *number\n",
    "    number -= 1\n",
    "print (\"Factorial is :\", fact)"
   ]
  },
  {
   "cell_type": "code",
   "execution_count": null,
   "metadata": {},
   "outputs": [],
   "source": [
    "#Python Program for simple interest\n",
    "principle =int(input('Enter a Principal amount: '))\n",
    "rate = int(input(\"Enter the anual rate of intrest in % terms: \"))\n",
    "tenure = int(input(\"Enter the tenure in years: \"))\n",
    "intrest = principle*rate*tenure/100\n",
    "print (\"Intrest would be : \", intrest)\n",
    "print (\"\\nOverall amount to be re-paid : \",principle+intrest)"
   ]
  },
  {
   "cell_type": "code",
   "execution_count": null,
   "metadata": {},
   "outputs": [],
   "source": [
    "#Python Program for compound interest\n",
    "principle =int(input('Enter a Principal amount: '))\n",
    "rate = int(input(\"Enter the anual rate of intrest in % terms: \"))\n",
    "tenure = int(input(\"Enter the tenure in years: \"))\n",
    "frequency = int(input(\"Enter the frequency i.e. how many times intrest should be compounded in a year \"))\n",
    "timeframe = frequency*tenure\n",
    "P= principle * (1+(rate/(100*frequency))) ** timeframe\n",
    "print (\"\\nOverall amount to be re-paid : \",P)"
   ]
  },
  {
   "cell_type": "code",
   "execution_count": null,
   "metadata": {},
   "outputs": [],
   "source": [
    "#Python Program to check Armstrong Number\n",
    "number = input(\"Enter number to be checked for Armstrong validations \")\n",
    "origional_number = int(number)\n",
    "exponent = len(number)\n",
    "iterations = exponent\n",
    "Armstrong_num = 0\n",
    "while iterations > 0 :\n",
    "    divisor = int(number)//(10**(iterations-1))\n",
    "    reminder = int(number) % (10**(iterations-1))\n",
    "    #print (\"Divisor is \",divisor)\n",
    "    number = reminder\n",
    "    #print(\"New number is \",number)\n",
    "    Armstrong_num = Armstrong_num + (divisor ** exponent)\n",
    "    #print (\"Stepwise armstrong number is\",Armstrong_num)\n",
    "    iterations = iterations - 1   \n",
    "print ('Armstrong Number validation got new number to be: ', Armstrong_num)\n",
    "\n",
    "if (origional_number == Armstrong_num):\n",
    "    print (\"This is Armstrong number\")\n",
    "else :\n",
    "    print (\"NOT AN Armstrong number\")\n",
    "    "
   ]
  },
  {
   "cell_type": "code",
   "execution_count": null,
   "metadata": {},
   "outputs": [],
   "source": [
    "#Prime Numbers\n",
    "def prime_check(number):\n",
    "    #number = int(input(\"Enter number to be checked for Prime validations \"))\n",
    "    #up = int(number/2)\n",
    "    count = 0\n",
    "    for i in range (2,number):\n",
    "        div = number%i\n",
    "        if (div == 0):\n",
    "            #print(\"NOT A PRIME number\")\n",
    "            count = count+1\n",
    "    if (count == 0 )       :\n",
    "        print(number)"
   ]
  },
  {
   "cell_type": "code",
   "execution_count": null,
   "metadata": {},
   "outputs": [],
   "source": [
    "for i in range (2,3):\n",
    "    print(i)"
   ]
  },
  {
   "cell_type": "code",
   "execution_count": null,
   "metadata": {},
   "outputs": [],
   "source": [
    "# Python program to print all Prime numbers in an Interval\n",
    "\n",
    "number = int(input(\"Enter number to be checked for Prime validations \"))\n",
    "for i in range(2,number+1):\n",
    "    prime_check(i)\n",
    "\n"
   ]
  },
  {
   "cell_type": "code",
   "execution_count": null,
   "metadata": {},
   "outputs": [],
   "source": [
    "# comparision\n",
    "\n",
    "MyList =list(input(\"Enter numbers seprated by \"))\n",
    "print (MyList)\n",
    "large = small = MyList[0]\n",
    "for i in range(1, len(MyList)-1):\n",
    "    if (large < MyList[i]):\n",
    "        large = MyList[i]\n",
    "\n",
    "for i in range(1, len(MyList)-1):\n",
    "    if (small > MyList[i]):\n",
    "        small = MyList[i]\n",
    "        \n",
    "print (\"Smallest Number is \", small)\n",
    "\n",
    "print (\"Largest Number is \", large)\n"
   ]
  },
  {
   "cell_type": "code",
   "execution_count": null,
   "metadata": {},
   "outputs": [],
   "source": [
    "#count each character in given string\n",
    "\n",
    "MyList =input(\"Enter Any Name : \")\n",
    "length = len(MyList)\n",
    "print (MyList)\n",
    "mydict=dict()\n",
    "#print (len(MyList))\n",
    "\n",
    "for i in range(0,len(MyList)):\n",
    "    count= 0\n",
    "    for j in range(0,len(MyList)) :\n",
    "        character = MyList[i]\n",
    "        if (character == MyList[j]):\n",
    "            count = count+1\n",
    "    mydict[character]= count\n",
    "#print(mydict)\n",
    "for key, value in mydict.items():\n",
    "    print(key, ' : ', value)\n"
   ]
  },
  {
   "cell_type": "code",
   "execution_count": null,
   "metadata": {},
   "outputs": [],
   "source": [
    "#Python program to interchange first and last elements in a list\n",
    "\n",
    "lst =[]\n",
    "num = int(input(\"How many values you want to enter : \"))\n",
    "\n",
    "for i in range(0,num):\n",
    "    j=input()\n",
    "    lst.append(j)\n",
    "print (\"Input list is :\",lst)\n",
    "\n",
    "#Replace first & last element from the list\n",
    "first = lst[0]\n",
    "last = lst[-1]\n",
    "\n",
    "lst[0] = last\n",
    "lst[-1]= first\n",
    "\n",
    "print (\"Output list is \", lst)"
   ]
  },
  {
   "cell_type": "code",
   "execution_count": null,
   "metadata": {},
   "outputs": [],
   "source": [
    "#Python program to check whether the string is Symmetrical or Palindrome\n",
    "A= input(\"Enter a string to be validated for Palindrome : \")\n",
    "B= A[::-1]\n",
    "print (\"String after reversing would be : \", B)\n",
    "\n",
    "if A.lower() == B.lower():\n",
    "    print(\"***** This is Paindrome\")\n",
    "else:\n",
    "    print (\"**** Sorry. This is not a case for Palindrome\")\n",
    "    \n",
    "    \n",
    "#check for symmetricity\n",
    "length = len(A)\n",
    "if (length%2 == 0):\n",
    "    n = int(length/2)\n",
    "    first_half = A[:n]\n",
    "    second_half = A[n:]\n",
    "    print (\"First half is  \", first_half)\n",
    "    print (\"Second half is \", second_half)\n",
    "    if first_half.lower() == second_half :\n",
    "        print(\"***** Given string : \",A,\" is symmetric\")\n",
    "    else:\n",
    "        print (\"***** Not a symmetric string\")\n",
    "else:\n",
    "        print (\"***** Not a symmetric string\")"
   ]
  },
  {
   "cell_type": "code",
   "execution_count": null,
   "metadata": {},
   "outputs": [],
   "source": [
    "#Reverse words in a given String in Python\n",
    "# Also,Print the uniq ist of strings\n",
    "\n",
    "A=input(\"Give the string with space as a seprator: \")\n",
    "count = A.count(' ')\n",
    "mylist = []\n",
    "#print (mylist)\n",
    "\n",
    "for i in range(0,count) :\n",
    "    #print (\"counter is set to \",count)\n",
    "    num = A.index(' ')\n",
    "    #print (\"Space is found at \", num , \"th location\")\n",
    "    mylist.append(A[:num])\n",
    "    A = A[num+1:]\n",
    "    #print (\"revised string is :\", A)\n",
    "    count -= count\n",
    "    continue\n",
    "mylist.append(A)\n",
    "print (\"Input list is \", mylist)\n",
    "print (\"Reverse list would be: \", '--'.join(mylist[::-1]))\n",
    "\n",
    "print (\"Unique string would be: \",set(mylist))\n"
   ]
  },
  {
   "cell_type": "code",
   "execution_count": null,
   "metadata": {},
   "outputs": [],
   "source": [
    "#Python program to print even length words in a string\n",
    "\n",
    "input_string = input(\"Enter a string seprated by space. We will print even words from the string: \")\n",
    "words = input_string.split()\n",
    "even_list =[]\n",
    "empty_list =[]\n",
    "\n",
    "for i in range (0,len(words)):\n",
    "    check_word = words[i]\n",
    "    if len(check_word)%2 == 0 :\n",
    "        #print (check_word)\n",
    "        even_list.append(check_word)\n",
    "#print (even_list)\n",
    "\n",
    "if even_list == empty_list :\n",
    "    print (\"No Even output \")\n",
    "else :\n",
    "    print (\"Even words are : \", ' '.join(even_list)      )  "
   ]
  },
  {
   "cell_type": "code",
   "execution_count": null,
   "metadata": {},
   "outputs": [],
   "source": [
    "# Python program to Find the size of a Tuple\n",
    "A = (1,2,3,40)\n",
    "type(A)\n",
    "len(A)"
   ]
  },
  {
   "cell_type": "code",
   "execution_count": null,
   "metadata": {},
   "outputs": [],
   "source": [
    "# Python – Maximum and Minimum K elements in Tuple\n",
    "A = int(input(\"How many total Input Numbers: \"))\n",
    "mylist=[]\n",
    "\n",
    "for i in range(0,A):\n",
    "    inp=int(input())\n",
    "    mylist.append(inp)\n",
    "print (mylist)\n",
    "\n",
    "mytuple = tuple(mylist)\n",
    "    "
   ]
  },
  {
   "cell_type": "code",
   "execution_count": 3,
   "metadata": {},
   "outputs": [
    {
     "name": "stdout",
     "output_type": "stream",
     "text": [
      "How many total Input Numbers: 6\n",
      "9\n",
      "6\n",
      "3\n",
      "2\n",
      "5\n",
      "8\n",
      "[9, 6, 3, 2, 5, 8]\n",
      "Given Tuple is  (9, 6, 3, 2, 5, 8)\n",
      "Max is  9\n",
      "Min is  2\n",
      "Sorted list is  [2, 3, 5, 6, 8, 9]\n",
      "Enter the vaue of K you want to see MIN-MAX : 2\n",
      "[2, 3, 8, 9]\n"
     ]
    }
   ],
   "source": [
    "# Python – Maximum and Minimum K elements in Tuple\n",
    "\n",
    "A = int(input(\"How many total Input Numbers: \"))\n",
    "mylist=[]\n",
    "\n",
    "for i in range(0,A):\n",
    "    inp=int(input())\n",
    "    mylist.append(inp)\n",
    "print (mylist)\n",
    "\n",
    "mytuple = tuple(mylist)\n",
    "\n",
    "print (\"Given Tuple is \", mytuple)\n",
    "max = min = mytuple[0]\n",
    "for i in range (0,len(mytuple)):\n",
    "    if (mytuple[i] > max ):\n",
    "        max = mytuple[i]\n",
    "    elif (mytuple[i] < min ):\n",
    "        min = mytuple[i]\n",
    "\n",
    "print (\"Max is \", max)\n",
    "print (\"Min is \", min)\n",
    "sorted_list = sorted (mylist)\n",
    "empty_list=[]\n",
    "print (\"Sorted list is \", sorted_list)\n",
    "k = int(input(\"Enter the vaue of K you want to see MIN-MAX : \"))\n",
    "\n",
    "\n",
    "if (k > A ):\n",
    "    print (\"Value of K should be less than input's total element\")\n",
    "else:\n",
    "    for i in range (0,k):\n",
    "        empty_list.append(sorted_list[i])\n",
    "    for i in range (A-k,A):\n",
    "        empty_list.append(sorted_list[i])\n",
    "        \n",
    "print (empty_list)"
   ]
  },
  {
   "cell_type": "code",
   "execution_count": 20,
   "metadata": {},
   "outputs": [
    {
     "name": "stdout",
     "output_type": "stream",
     "text": [
      "trditional way - Sum is :  15\n"
     ]
    }
   ],
   "source": [
    "# Sum of tuple elements\n",
    "\n",
    "mytuple =(1,2,3,4,5)\n",
    "mytuple_list =list(mytuple)\n",
    "\n",
    "\n",
    "sum = 0\n",
    "for i in range(0,len(mytuple)):\n",
    "    sum =sum+mytuple[i]\n",
    "print (\"trditional way - Sum is : \", sum)\n",
    "\n"
   ]
  },
  {
   "cell_type": "code",
   "execution_count": 22,
   "metadata": {},
   "outputs": [
    {
     "name": "stdout",
     "output_type": "stream",
     "text": [
      "The original list is : [[('Gfg', 3), ('is', 3)], [('best', 1)], [('for', 5), ('geeks', 1)]]\n",
      "The matrix after row elements addition : [[(('Gfg', 3), 6), (('is', 3), 6)], [(('best', 1), 7)], [(('for', 5), 8), (('geeks', 1), 8)]]\n"
     ]
    }
   ],
   "source": [
    " #Python3 code to demonstrate working of \n",
    "# Row-wise element Addition in Tuple Matrix\n",
    "# Using zip() + list comprehension\n",
    "  \n",
    "# initializing list\n",
    "test_list = [[('Gfg', 3), ('is', 3)], [('best', 1)], [('for', 5), ('geeks', 1)]]\n",
    "  \n",
    "# printing original list\n",
    "print(\"The original list is : \" + str(test_list))\n",
    "  \n",
    "# initializing Custom eles\n",
    "cus_eles = [6, 7, 8]\n",
    "  \n",
    "# Row-wise element Addition in Tuple Matrix\n",
    "# Using zip() + list comprehension\n",
    "res = [[(idx, val) for idx in key] for key,  val in zip(test_list, cus_eles)]\n",
    "  \n",
    "# printing result \n",
    "print(\"The matrix after row elements addition : \" + str(res))"
   ]
  }
 ],
 "metadata": {
  "kernelspec": {
   "display_name": "Python 3",
   "language": "python",
   "name": "python3"
  },
  "language_info": {
   "codemirror_mode": {
    "name": "ipython",
    "version": 3
   },
   "file_extension": ".py",
   "mimetype": "text/x-python",
   "name": "python",
   "nbconvert_exporter": "python",
   "pygments_lexer": "ipython3",
   "version": "3.7.6"
  }
 },
 "nbformat": 4,
 "nbformat_minor": 4
}
